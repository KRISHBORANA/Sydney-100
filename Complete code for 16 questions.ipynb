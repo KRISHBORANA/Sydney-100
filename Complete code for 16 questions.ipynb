{
 "cells": [
  {
   "cell_type": "markdown",
   "metadata": {
    "id": "p5GZzLwDdbta"
   },
   "source": [
    "Code for User.csv"
   ]
  },
  {
   "cell_type": "code",
   "execution_count": null,
   "metadata": {
    "colab": {
     "base_uri": "https://localhost:8080/"
    },
    "id": "_r4TvgJZTvS6",
    "outputId": "d51f707a-b976-4cea-dd8f-fc03387f0c6f"
   },
   "outputs": [
    {
     "name": "stdout",
     "output_type": "stream",
     "text": [
      "Detailed user data saved to users.csv successfully.\n"
     ]
    }
   ],
   "source": [
    "import requests\n",
    "import pandas as pd\n",
    "import time\n",
    "from requests.adapters import HTTPAdapter\n",
    "from requests.exceptions import RequestException\n",
    "from urllib3.util.retry import Retry\n",
    "\n",
    "# GitHub API endpoint and headers\n",
    "GITHUB_API_URL = \"https://api.github.com\"\n",
    "GITHUB_TOKEN = \"Replace with your GitHub token\"  # Replace with your GitHub token\n",
    "HEADERS = {\n",
    "    \"Authorization\": f\"token {GITHUB_TOKEN}\",\n",
    "    \"Accept\": \"application/vnd.github.v3+json\"\n",
    "}\n",
    "\n",
    "# Session with retry and backoff\n",
    "session = requests.Session()\n",
    "retry_strategy = Retry(\n",
    "    total=5,\n",
    "    backoff_factor=1,\n",
    "    status_forcelist=[429, 500, 502, 503, 504],\n",
    ")\n",
    "adapter = HTTPAdapter(max_retries=retry_strategy)\n",
    "session.mount(\"https://\", adapter)\n",
    "session.headers.update(HEADERS)\n",
    "\n",
    "def fetch_sydney_users(min_followers=100):\n",
    "    \"\"\"Fetch GitHub users in Sydney with more than the specified number of followers.\"\"\"\n",
    "    users = []\n",
    "    page = 1\n",
    "\n",
    "    while True:\n",
    "        try:\n",
    "            url = f\"{GITHUB_API_URL}/search/users?q=location:Sydney+followers:>{min_followers}&page={page}&per_page=100\"\n",
    "            response = session.get(url, timeout=10)\n",
    "\n",
    "            if response.status_code != 200:\n",
    "                print(f\"Error: {response.status_code} - {response.text}\")\n",
    "                break\n",
    "\n",
    "            data = response.json()\n",
    "            if not data['items']:\n",
    "                break\n",
    "\n",
    "            for user in data['items']:\n",
    "                user_details = fetch_user_details(user[\"login\"], user[\"url\"])\n",
    "                if user_details:\n",
    "                    users.append(user_details)\n",
    "\n",
    "            page += 1\n",
    "            if page > 10:\n",
    "                break\n",
    "\n",
    "            time.sleep(1)\n",
    "\n",
    "        except RequestException as e:\n",
    "            print(f\"Request failed: {e}\")\n",
    "            break\n",
    "\n",
    "    return users\n",
    "\n",
    "def fetch_user_details(login, user_detail_url):\n",
    "    \"\"\"Fetch detailed information for a specific user.\"\"\"\n",
    "    response = session.get(user_detail_url, timeout=10)\n",
    "    if response.status_code == 200:\n",
    "        user_data = response.json()\n",
    "        return {\n",
    "            \"login\": user_data.get(\"login\", \"\"),\n",
    "            \"name\": user_data.get(\"name\", \"\"),\n",
    "            \"company\": (user_data.get(\"company\") or \"\").lstrip(\"@\").upper().strip(),\n",
    "            \"location\": user_data.get(\"location\", \"\"),\n",
    "            \"email\": user_data.get(\"email\", \"\"),\n",
    "            \"hireable\": user_data.get(\"hireable\", \"\"),\n",
    "            \"bio\": user_data.get(\"bio\", \"\"),\n",
    "            \"public_repos\": user_data.get(\"public_repos\", 0),\n",
    "            \"followers\": user_data.get(\"followers\", 0),\n",
    "            \"following\": user_data.get(\"following\", 0),\n",
    "            \"created_at\": user_data.get(\"created_at\", \"\")\n",
    "        }\n",
    "    else:\n",
    "        error_message = response.json().get('message', 'No additional error info')\n",
    "        print(f\"Failed to fetch details for {login}: {response.status_code} - {error_message}\")\n",
    "    return None\n",
    "\n",
    "# Fetch users and save to 'users.csv'\n",
    "sydney_users = fetch_sydney_users()\n",
    "df_users = pd.DataFrame(sydney_users)\n",
    "df_users.to_csv(\"users.csv\", index=False)\n",
    "print(\"Detailed user data saved to users.csv successfully.\")\n"
   ]
  },
  {
   "cell_type": "markdown",
   "metadata": {
    "id": "oi7-gLU_dUEo"
   },
   "source": [
    "Code to check validate_company"
   ]
  },
  {
   "cell_type": "code",
   "execution_count": null,
   "metadata": {
    "colab": {
     "base_uri": "https://localhost:8080/"
    },
    "id": "b6HwkDEwch5q",
    "outputId": "5e73384e-7963-48e8-ddd1-f88bb33a2b89"
   },
   "outputs": [
    {
     "name": "stdout",
     "output_type": "stream",
     "text": [
      "Company discrepancy for user nicknochnack: Original: 'nan', Cleaned: ''\n",
      "Company discrepancy for user 0vm: Original: 'nan', Cleaned: ''\n",
      "Company discrepancy for user dragen1860: Original: 'nan', Cleaned: ''\n",
      "Company discrepancy for user Canva: Original: 'nan', Cleaned: ''\n",
      "Company discrepancy for user jpillora: Original: 'nan', Cleaned: ''\n",
      "Company discrepancy for user alecthomas: Original: 'nan', Cleaned: ''\n",
      "Company discrepancy for user johndpope: Original: 'nan', Cleaned: ''\n",
      "Company discrepancy for user djnavarro: Original: 'nan', Cleaned: ''\n",
      "Company discrepancy for user JayZeeDesign: Original: 'nan', Cleaned: ''\n",
      "Company discrepancy for user tamim: Original: 'nan', Cleaned: ''\n",
      "Company discrepancy for user stevemao: Original: 'nan', Cleaned: ''\n",
      "Company discrepancy for user cironunes: Original: 'nan', Cleaned: ''\n",
      "Company discrepancy for user matthewpalmer: Original: 'nan', Cleaned: ''\n",
      "Company discrepancy for user ndleah: Original: 'nan', Cleaned: ''\n",
      "Company discrepancy for user MaikuB: Original: 'nan', Cleaned: ''\n",
      "Company discrepancy for user eudoxia0: Original: 'nan', Cleaned: ''\n",
      "Company discrepancy for user samthor: Original: 'nan', Cleaned: ''\n",
      "Company discrepancy for user GrahamDumpleton: Original: 'nan', Cleaned: ''\n",
      "Company discrepancy for user pixegami: Original: 'nan', Cleaned: ''\n",
      "Company discrepancy for user sampotts: Original: 'nan', Cleaned: ''\n",
      "Company discrepancy for user SaitoWu: Original: 'nan', Cleaned: ''\n",
      "Company discrepancy for user abdulla: Original: 'nan', Cleaned: ''\n",
      "Company discrepancy for user boyter: Original: 'nan', Cleaned: ''\n",
      "Company discrepancy for user thomaseizinger: Original: 'nan', Cleaned: ''\n",
      "Company discrepancy for user davidgilbertson: Original: 'nan', Cleaned: ''\n",
      "Company discrepancy for user pksjce: Original: 'nan', Cleaned: ''\n",
      "Company discrepancy for user leaanthony: Original: 'nan', Cleaned: ''\n",
      "Company discrepancy for user soarcn: Original: 'nan', Cleaned: ''\n",
      "Company discrepancy for user soyelmnd: Original: 'nan', Cleaned: ''\n",
      "Company discrepancy for user rodjek: Original: 'nan', Cleaned: ''\n",
      "Company discrepancy for user tiagomatosweb: Original: 'nan', Cleaned: ''\n",
      "Company discrepancy for user runlevel5: Original: 'nan', Cleaned: ''\n",
      "Company discrepancy for user kevin-lee: Original: 'nan', Cleaned: ''\n",
      "Company discrepancy for user malcolmt: Original: 'nan', Cleaned: ''\n",
      "Company discrepancy for user MajicDesigns: Original: 'nan', Cleaned: ''\n",
      "Company discrepancy for user jarrodwatts: Original: 'nan', Cleaned: ''\n",
      "Company discrepancy for user vaibhavsagar: Original: 'nan', Cleaned: ''\n",
      "Company discrepancy for user chewxy: Original: 'nan', Cleaned: ''\n",
      "Company discrepancy for user anthonygore: Original: 'nan', Cleaned: ''\n",
      "Company discrepancy for user lvarayut: Original: 'nan', Cleaned: ''\n",
      "Company discrepancy for user twang2218: Original: 'nan', Cleaned: ''\n",
      "Company discrepancy for user SathyaBhat: Original: 'nan', Cleaned: ''\n",
      "Company discrepancy for user ryanheise: Original: 'nan', Cleaned: ''\n",
      "Company discrepancy for user ray-x: Original: 'nan', Cleaned: ''\n",
      "Company discrepancy for user 45Drives: Original: 'nan', Cleaned: ''\n",
      "Company discrepancy for user kaievns: Original: 'nan', Cleaned: ''\n",
      "Company discrepancy for user duncanhunter: Original: 'nan', Cleaned: ''\n",
      "Company discrepancy for user sigp: Original: 'nan', Cleaned: ''\n",
      "Company discrepancy for user Avangelista: Original: 'nan', Cleaned: ''\n",
      "Company discrepancy for user Moult: Original: 'nan', Cleaned: ''\n",
      "Company discrepancy for user alessandrod: Original: 'nan', Cleaned: ''\n",
      "Company discrepancy for user woolworthslimited: Original: 'nan', Cleaned: ''\n",
      "Company discrepancy for user JizhiziLi: Original: 'nan', Cleaned: ''\n",
      "Company discrepancy for user amysimmons: Original: 'nan', Cleaned: ''\n",
      "Company discrepancy for user Bluebie: Original: 'nan', Cleaned: ''\n",
      "Company discrepancy for user unicar9: Original: 'nan', Cleaned: ''\n",
      "Company discrepancy for user laktek: Original: 'nan', Cleaned: ''\n",
      "Company discrepancy for user unsw-edu-au: Original: 'nan', Cleaned: ''\n",
      "Company discrepancy for user bigcommerce: Original: 'nan', Cleaned: ''\n",
      "Company discrepancy for user robbievanleeuwen: Original: 'nan', Cleaned: ''\n",
      "Company discrepancy for user randomaccess3: Original: 'nan', Cleaned: ''\n",
      "Company discrepancy for user LesleyLai: Original: 'nan', Cleaned: ''\n",
      "Company discrepancy for user slavaim: Original: 'nan', Cleaned: ''\n",
      "Company discrepancy for user davidlattimore: Original: 'nan', Cleaned: ''\n",
      "Company discrepancy for user bensonruan: Original: 'nan', Cleaned: ''\n",
      "Company discrepancy for user julapy: Original: 'nan', Cleaned: ''\n",
      "Company discrepancy for user rid00z: Original: 'nan', Cleaned: ''\n",
      "Company discrepancy for user tcharding: Original: 'nan', Cleaned: ''\n",
      "Company discrepancy for user bberak: Original: 'nan', Cleaned: ''\n",
      "Company discrepancy for user kvos: Original: 'nan', Cleaned: ''\n",
      "Company discrepancy for user zcaudate: Original: 'nan', Cleaned: ''\n",
      "Company discrepancy for user PinkyJie: Original: 'nan', Cleaned: ''\n",
      "Company discrepancy for user zmdominguez: Original: 'nan', Cleaned: ''\n",
      "Company discrepancy for user paulfioravanti: Original: 'nan', Cleaned: ''\n",
      "Company discrepancy for user brendanmurty: Original: 'nan', Cleaned: ''\n",
      "Company discrepancy for user naddison36: Original: 'nan', Cleaned: ''\n",
      "Company discrepancy for user gavanlamb: Original: 'nan', Cleaned: ''\n",
      "Company discrepancy for user jordwest: Original: 'nan', Cleaned: ''\n",
      "Company discrepancy for user enzyme69: Original: 'nan', Cleaned: ''\n",
      "Company discrepancy for user aussiearef: Original: 'nan', Cleaned: ''\n",
      "Company discrepancy for user cxong: Original: 'nan', Cleaned: ''\n",
      "Company discrepancy for user vicr123: Original: 'nan', Cleaned: ''\n",
      "Company discrepancy for user mike-thompson-day8: Original: 'nan', Cleaned: ''\n",
      "Company discrepancy for user theojulienne: Original: 'nan', Cleaned: ''\n",
      "Company discrepancy for user AlphaWallet: Original: 'nan', Cleaned: ''\n",
      "Company discrepancy for user amitsaha: Original: 'nan', Cleaned: ''\n",
      "Company discrepancy for user kfish: Original: 'nan', Cleaned: ''\n",
      "Company discrepancy for user fourkbomb: Original: 'nan', Cleaned: ''\n",
      "Company discrepancy for user twalve: Original: 'nan', Cleaned: ''\n",
      "Company discrepancy for user neilfws: Original: 'nan', Cleaned: ''\n",
      "Company discrepancy for user Gomah: Original: 'nan', Cleaned: ''\n",
      "Company discrepancy for user jamesray1: Original: 'nan', Cleaned: ''\n",
      "Company discrepancy for user russmaxdesign: Original: 'nan', Cleaned: ''\n",
      "Company discrepancy for user markhibberd: Original: 'nan', Cleaned: ''\n",
      "Company discrepancy for user kyb3r: Original: 'nan', Cleaned: ''\n",
      "Company discrepancy for user floraCodes: Original: 'nan', Cleaned: ''\n",
      "Company discrepancy for user CassiusPacheco: Original: 'nan', Cleaned: ''\n",
      "Company discrepancy for user malcolmgroves: Original: 'nan', Cleaned: ''\n",
      "Company discrepancy for user rizsotto: Original: 'nan', Cleaned: ''\n",
      "Company discrepancy for user cjheath: Original: 'nan', Cleaned: ''\n",
      "Company discrepancy for user atlassian-labs: Original: 'nan', Cleaned: ''\n",
      "Company discrepancy for user canva-public: Original: 'nan', Cleaned: ''\n",
      "Company discrepancy for user mgreen27: Original: 'nan', Cleaned: ''\n",
      "Company discrepancy for user SimplyWallSt: Original: 'nan', Cleaned: ''\n",
      "Company discrepancy for user timchurches: Original: 'nan', Cleaned: ''\n",
      "Company discrepancy for user jasonsreid: Original: 'nan', Cleaned: ''\n",
      "Company discrepancy for user mzhaoshuai: Original: 'nan', Cleaned: ''\n",
      "Company discrepancy for user sushil79g: Original: 'nan', Cleaned: ''\n",
      "Company discrepancy for user JasonShin: Original: 'nan', Cleaned: ''\n",
      "Company discrepancy for user ryan-allen: Original: 'nan', Cleaned: ''\n",
      "Company discrepancy for user taoshen58: Original: 'nan', Cleaned: ''\n",
      "Company discrepancy for user JavascriptMick: Original: 'nan', Cleaned: ''\n",
      "Company discrepancy for user ashquarky: Original: 'nan', Cleaned: ''\n",
      "Company discrepancy for user gridbugs: Original: 'nan', Cleaned: ''\n",
      "Company discrepancy for user PaulWaltersDev: Original: 'nan', Cleaned: ''\n",
      "Company discrepancy for user dylanegan: Original: 'nan', Cleaned: ''\n",
      "Company discrepancy for user rodolfoprr: Original: 'nan', Cleaned: ''\n",
      "Company discrepancy for user david-cattermole: Original: 'nan', Cleaned: ''\n",
      "Company discrepancy for user deerawan: Original: 'nan', Cleaned: ''\n",
      "Company discrepancy for user mgiuca: Original: 'nan', Cleaned: ''\n",
      "Company discrepancy for user NobodyXu: Original: 'nan', Cleaned: ''\n",
      "Company discrepancy for user featherbear: Original: 'nan', Cleaned: ''\n",
      "Company discrepancy for user maacpiash: Original: 'nan', Cleaned: ''\n",
      "Company discrepancy for user aullman: Original: 'nan', Cleaned: ''\n",
      "Company discrepancy for user xiaomengyc: Original: 'nan', Cleaned: ''\n",
      "Company discrepancy for user dkarunakaran: Original: 'nan', Cleaned: ''\n",
      "Company discrepancy for user davidsansome: Original: 'nan', Cleaned: ''\n",
      "Company discrepancy for user guyecode: Original: 'nan', Cleaned: ''\n",
      "Company discrepancy for user damncabbage: Original: 'nan', Cleaned: ''\n",
      "Company discrepancy for user hemantasapkota: Original: 'nan', Cleaned: ''\n",
      "Company discrepancy for user brinlyau: Original: 'nan', Cleaned: ''\n",
      "Company discrepancy for user physwizz: Original: 'nan', Cleaned: ''\n",
      "Company discrepancy for user Lou-Flan: Original: 'nan', Cleaned: ''\n",
      "Company discrepancy for user donnaskiez: Original: 'nan', Cleaned: ''\n",
      "Company discrepancy for user andersonaguiar: Original: 'nan', Cleaned: ''\n",
      "Company discrepancy for user trulyspinach: Original: 'nan', Cleaned: ''\n",
      "Company discrepancy for user benl23x5: Original: 'nan', Cleaned: ''\n",
      "Company discrepancy for user ozbillwang: Original: 'nan', Cleaned: ''\n",
      "Company discrepancy for user nclarx: Original: 'nan', Cleaned: ''\n",
      "Company discrepancy for user dcutting: Original: 'nan', Cleaned: ''\n",
      "Company discrepancy for user nalbion: Original: 'nan', Cleaned: ''\n",
      "Company discrepancy for user jsscclr: Original: 'nan', Cleaned: ''\n",
      "Company discrepancy for user tresacton: Original: 'nan', Cleaned: ''\n",
      "Company discrepancy for user mhutchie: Original: 'nan', Cleaned: ''\n",
      "Company discrepancy for user Thinkmill: Original: 'nan', Cleaned: ''\n",
      "Company discrepancy for user daobilige-su: Original: 'nan', Cleaned: ''\n",
      "Company discrepancy for user iamteem: Original: 'nan', Cleaned: ''\n",
      "Company discrepancy for user maxious: Original: 'nan', Cleaned: ''\n",
      "Company discrepancy for user jordaneremieff: Original: 'nan', Cleaned: ''\n",
      "Company discrepancy for user wilsonzlin: Original: 'nan', Cleaned: ''\n",
      "Company discrepancy for user tbillington: Original: 'nan', Cleaned: ''\n",
      "Company discrepancy for user delitescere: Original: 'nan', Cleaned: ''\n",
      "Company discrepancy for user np1: Original: 'nan', Cleaned: ''\n",
      "Company discrepancy for user zhuangqh: Original: 'nan', Cleaned: ''\n",
      "Company discrepancy for user noisysocks: Original: 'nan', Cleaned: ''\n",
      "Company discrepancy for user DanyMariaLee: Original: 'nan', Cleaned: ''\n",
      "Company discrepancy for user XertroV: Original: 'nan', Cleaned: ''\n",
      "Company discrepancy for user encryptededdy: Original: 'nan', Cleaned: ''\n",
      "Company discrepancy for user freshtonic: Original: 'nan', Cleaned: ''\n",
      "Company discrepancy for user kurisubrooks: Original: 'nan', Cleaned: ''\n",
      "Company discrepancy for user peterboyer: Original: 'nan', Cleaned: ''\n"
     ]
    }
   ],
   "source": [
    "import pandas as pd\n",
    "\n",
    "# Load users from the CSV file\n",
    "users_df = pd.read_csv(\"users.csv\")\n",
    "\n",
    "# Function to check and clean up company names\n",
    "def validate_company(company):\n",
    "    if isinstance(company, str):  # Ensure company is a string\n",
    "        # Trim whitespace and clean company name\n",
    "        cleaned_company = company.strip().lstrip('@').upper()\n",
    "        return cleaned_company\n",
    "    return \"\"\n",
    "\n",
    "# List to store errors\n",
    "errors = []\n",
    "\n",
    "# Validate and report on company data\n",
    "for index, row in users_df.iterrows():\n",
    "    original_company = row[\"company\"]\n",
    "    cleaned_company = validate_company(original_company)\n",
    "\n",
    "    if cleaned_company != original_company:\n",
    "        errors.append(f\"Company discrepancy for user {row['login']}: Original: '{original_company}', Cleaned: '{cleaned_company}'\")\n",
    "\n",
    "# Print errors or confirmation message\n",
    "if errors:\n",
    "    for error in errors:\n",
    "        print(error)\n",
    "else:\n",
    "    print(\"No errors found.\")\n"
   ]
  },
  {
   "cell_type": "markdown",
   "metadata": {
    "id": "gLwebWzAik3R"
   },
   "source": [
    "#more cleaned users.csv"
   ]
  },
  {
   "cell_type": "code",
   "execution_count": null,
   "metadata": {
    "colab": {
     "base_uri": "https://localhost:8080/"
    },
    "id": "V6Gt4LSAijPN",
    "outputId": "2e2ce66b-20a1-467e-be37-2ccfe53a4257"
   },
   "outputs": [
    {
     "name": "stdout",
     "output_type": "stream",
     "text": [
      "Company names cleaned and saved to users.csv.\n"
     ]
    }
   ],
   "source": [
    "#more cleaned users.csv\n",
    "import pandas as pd\n",
    "\n",
    "# Load the data\n",
    "users_df = pd.read_csv('users.csv')\n",
    "\n",
    "# Clean the company names\n",
    "users_df['company'] = users_df['company'].str.strip()  # Trim whitespace\n",
    "users_df['company'] = users_df['company'].str.lstrip('@')  # Strip leading '@'\n",
    "users_df['company'] = users_df['company'].str.upper()  # Convert to uppercase\n",
    "\n",
    "# Save the cleaned DataFrame back to users.csv\n",
    "users_df.to_csv('users.csv', index=False)\n",
    "\n",
    "print(\"Company names cleaned and saved to users.csv.\")\n"
   ]
  },
  {
   "cell_type": "markdown",
   "metadata": {
    "id": "GGrWYzNldNPf"
   },
   "source": [
    "Download User.csv"
   ]
  },
  {
   "cell_type": "code",
   "execution_count": null,
   "metadata": {
    "colab": {
     "base_uri": "https://localhost:8080/",
     "height": 17
    },
    "id": "990FxovqZi2A",
    "outputId": "2d0e74e1-60f9-4463-93cf-f9b840d784f6"
   },
   "outputs": [
    {
     "data": {
      "application/javascript": "\n    async function download(id, filename, size) {\n      if (!google.colab.kernel.accessAllowed) {\n        return;\n      }\n      const div = document.createElement('div');\n      const label = document.createElement('label');\n      label.textContent = `Downloading \"${filename}\": `;\n      div.appendChild(label);\n      const progress = document.createElement('progress');\n      progress.max = size;\n      div.appendChild(progress);\n      document.body.appendChild(div);\n\n      const buffers = [];\n      let downloaded = 0;\n\n      const channel = await google.colab.kernel.comms.open(id);\n      // Send a message to notify the kernel that we're ready.\n      channel.send({})\n\n      for await (const message of channel.messages) {\n        // Send a message to notify the kernel that we're ready.\n        channel.send({})\n        if (message.buffers) {\n          for (const buffer of message.buffers) {\n            buffers.push(buffer);\n            downloaded += buffer.byteLength;\n            progress.value = downloaded;\n          }\n        }\n      }\n      const blob = new Blob(buffers, {type: 'application/binary'});\n      const a = document.createElement('a');\n      a.href = window.URL.createObjectURL(blob);\n      a.download = filename;\n      div.appendChild(a);\n      a.click();\n      div.remove();\n    }\n  ",
      "text/plain": [
       "<IPython.core.display.Javascript object>"
      ]
     },
     "metadata": {},
     "output_type": "display_data"
    },
    {
     "data": {
      "application/javascript": "download(\"download_19d05cc5-2209-4b87-ac48-ce4d53a08165\", \"users.csv\", 51795)",
      "text/plain": [
       "<IPython.core.display.Javascript object>"
      ]
     },
     "metadata": {},
     "output_type": "display_data"
    }
   ],
   "source": [
    "from google.colab import files\n",
    "\n",
    "# Download users.csv\n",
    "files.download(\"users.csv\")"
   ]
  },
  {
   "cell_type": "markdown",
   "metadata": {
    "id": "mmcQ2YphdE4v"
   },
   "source": [
    "Code for repositories.csv"
   ]
  },
  {
   "cell_type": "code",
   "execution_count": null,
   "metadata": {
    "colab": {
     "base_uri": "https://localhost:8080/"
    },
    "id": "17a1fTxfbMUZ",
    "outputId": "d336fcd0-e72e-409d-c3e7-7d31649562e5"
   },
   "outputs": [
    {
     "name": "stdout",
     "output_type": "stream",
     "text": [
      "Fetching repositories for user: nicknochnack\n",
      "Fetching repositories for user: brendangregg\n",
      "Fetching repositories for user: cornflourblue\n",
      "Fetching repositories for user: 0vm\n",
      "Fetching repositories for user: davecheney\n",
      "Fetching repositories for user: JedWatson\n",
      "Fetching repositories for user: dragen1860\n",
      "Fetching repositories for user: thombergs\n",
      "Fetching repositories for user: DmitryBaranovskiy\n",
      "Fetching repositories for user: redguardtoo\n",
      "Fetching repositories for user: sanjay-kv\n",
      "Fetching repositories for user: Canva\n",
      "Fetching repositories for user: orhanobut\n",
      "Fetching repositories for user: tonybaloney\n",
      "Fetching repositories for user: dmytrodanylyk\n",
      "Fetching repositories for user: MaryamAustralia\n",
      "Fetching repositories for user: haskellcamargo\n",
      "Fetching repositories for user: jpillora\n",
      "Fetching repositories for user: adg\n",
      "Fetching repositories for user: SamSaffron\n",
      "Fetching repositories for user: alecthomas\n",
      "Fetching repositories for user: johndpope\n",
      "Fetching repositories for user: djnavarro\n",
      "Fetching repositories for user: JayZeeDesign\n",
      "Fetching repositories for user: tamim\n",
      "Fetching repositories for user: dformoso\n",
      "Fetching repositories for user: domesticmouse\n",
      "Fetching repositories for user: hugobowne\n",
      "Fetching repositories for user: stevemao\n",
      "Fetching repositories for user: kaloraat\n",
      "Fetching repositories for user: iann0036\n",
      "Fetching repositories for user: aussieBIMguru\n",
      "Fetching repositories for user: cironunes\n",
      "Fetching repositories for user: matthewpalmer\n",
      "Fetching repositories for user: unruledboy\n",
      "Fetching repositories for user: torifat\n",
      "Fetching repositories for user: ndleah\n",
      "Fetching repositories for user: MaikuB\n",
      "Fetching repositories for user: bokkypoobah\n",
      "Fetching repositories for user: dsymonds\n",
      "Fetching repositories for user: aaronpowell\n",
      "Fetching repositories for user: huonw\n",
      "Fetching repositories for user: eudoxia0\n",
      "Fetching repositories for user: theKashey\n",
      "Fetching repositories for user: geshan\n",
      "Fetching repositories for user: samthor\n",
      "Fetching repositories for user: GrahamDumpleton\n",
      "Fetching repositories for user: upsuper\n",
      "Fetching repositories for user: datawithdanny\n",
      "Fetching repositories for user: pixegami\n",
      "Fetching repositories for user: sampotts\n",
      "Fetching repositories for user: Raathigesh\n",
      "Fetching repositories for user: SaitoWu\n",
      "Fetching repositories for user: futureshocked\n",
      "Fetching repositories for user: abdulla\n",
      "Fetching repositories for user: boyter\n",
      "Fetching repositories for user: thomaseizinger\n",
      "Fetching repositories for user: TakuSemba\n",
      "Fetching repositories for user: davidgilbertson\n",
      "Fetching repositories for user: pksjce\n",
      "Fetching repositories for user: leaanthony\n",
      "Fetching repositories for user: soarcn\n",
      "Fetching repositories for user: jossmac\n",
      "Fetching repositories for user: soyelmnd\n",
      "Fetching repositories for user: jnothman\n",
      "Fetching repositories for user: HamishMW\n",
      "Fetching repositories for user: rodjek\n",
      "Fetching repositories for user: tiagomatosweb\n",
      "Fetching repositories for user: Hujjat\n",
      "Fetching repositories for user: marionebl\n",
      "Fetching repositories for user: andrekolodochka\n",
      "Fetching repositories for user: runlevel5\n",
      "Fetching repositories for user: kevin-lee\n",
      "Fetching repositories for user: sachinruk\n",
      "Fetching repositories for user: robin-dela\n",
      "Fetching repositories for user: malcolmt\n",
      "Fetching repositories for user: MajicDesigns\n",
      "Fetching repositories for user: Z-Shang\n",
      "Fetching repositories for user: huxingyi\n",
      "Fetching repositories for user: jarrodwatts\n",
      "Fetching repositories for user: vaibhavsagar\n",
      "Fetching repositories for user: chewxy\n",
      "Fetching repositories for user: anthonygore\n",
      "Fetching repositories for user: mcauser\n",
      "Fetching repositories for user: lvarayut\n",
      "Fetching repositories for user: MewX\n",
      "Fetching repositories for user: pszklarska\n",
      "Fetching repositories for user: twang2218\n",
      "Fetching repositories for user: 1hakr\n",
      "Fetching repositories for user: olebedev\n",
      "Fetching repositories for user: ngot\n",
      "Fetching repositories for user: SathyaBhat\n",
      "Fetching repositories for user: ryanheise\n",
      "Fetching repositories for user: ray-x\n",
      "Fetching repositories for user: michaelsproul\n",
      "Fetching repositories for user: 45Drives\n",
      "Fetching repositories for user: nosir\n",
      "Fetching repositories for user: thushv89\n",
      "Fetching repositories for user: gloveboxes\n",
      "Fetching repositories for user: lebinh\n",
      "Fetching repositories for user: itsdouges\n",
      "Fetching repositories for user: ArjunAranetaCodes\n",
      "Fetching repositories for user: Showfom\n",
      "Fetching repositories for user: jesstelford\n",
      "Fetching repositories for user: josephj\n",
      "Fetching repositories for user: FagnerMartinsBrack\n",
      "Fetching repositories for user: danieldelcore\n",
      "Fetching repositories for user: FedericoTartarini\n",
      "Fetching repositories for user: kaievns\n",
      "Fetching repositories for user: yamadapc\n",
      "Fetching repositories for user: alice\n",
      "Fetching repositories for user: rikka0w0\n",
      "Fetching repositories for user: ibigbug\n",
      "Fetching repositories for user: duncanhunter\n",
      "Fetching repositories for user: apkelly\n",
      "Fetching repositories for user: lukakerr\n",
      "Fetching repositories for user: sigp\n",
      "Fetching repositories for user: Avangelista\n",
      "Fetching repositories for user: pentestfunctions\n",
      "Fetching repositories for user: kuz\n",
      "Fetching repositories for user: jshwi\n",
      "Fetching repositories for user: gustavohenke\n",
      "Fetching repositories for user: mikel\n",
      "Fetching repositories for user: Moult\n",
      "Fetching repositories for user: alessandrod\n",
      "Fetching repositories for user: AlexStormwood\n",
      "Fetching repositories for user: alexgurr\n",
      "Fetching repositories for user: bradwoods\n",
      "Fetching repositories for user: stowball\n",
      "Fetching repositories for user: h4m5t\n",
      "Fetching repositories for user: mattray\n",
      "Fetching repositories for user: woolworthslimited\n",
      "Fetching repositories for user: ydkhatri\n",
      "Fetching repositories for user: JizhiziLi\n",
      "Fetching repositories for user: amaarora\n",
      "Fetching repositories for user: amysimmons\n",
      "Fetching repositories for user: Bluebie\n",
      "Fetching repositories for user: unicar9\n",
      "Fetching repositories for user: laurencei\n",
      "Fetching repositories for user: laktek\n",
      "Fetching repositories for user: EEVblog\n",
      "Fetching repositories for user: donsbot\n",
      "Fetching repositories for user: stanleyhuangyc\n",
      "Fetching repositories for user: drsimonj\n",
      "Fetching repositories for user: kring\n",
      "Fetching repositories for user: unsw-edu-au\n",
      "Fetching repositories for user: bigcommerce\n",
      "Fetching repositories for user: TokenScript\n",
      "Fetching repositories for user: cht8687\n",
      "Fetching repositories for user: robbievanleeuwen\n",
      "Fetching repositories for user: bennetthardwick\n",
      "Fetching repositories for user: directorcia\n",
      "Fetching repositories for user: randomaccess3\n",
      "Fetching repositories for user: wileam\n",
      "Fetching repositories for user: LesleyLai\n",
      "Fetching repositories for user: slavaim\n",
      "Fetching repositories for user: dwightwatson\n",
      "Fetching repositories for user: walissoncom\n",
      "Fetching repositories for user: rogchap\n",
      "Fetching repositories for user: CMCDragonkai\n",
      "Fetching repositories for user: adamhannigan\n",
      "Fetching repositories for user: TomasBeuzen\n",
      "Fetching repositories for user: fwouts\n",
      "Fetching repositories for user: bennyxguo\n",
      "Fetching repositories for user: davidlattimore\n",
      "Fetching repositories for user: bensonruan\n",
      "Fetching repositories for user: AgeManning\n",
      "Fetching repositories for user: mikeyhodl\n",
      "Fetching repositories for user: julapy\n",
      "Fetching repositories for user: benfulcher\n",
      "Fetching repositories for user: rid00z\n",
      "Fetching repositories for user: mvandermeulen\n",
      "Fetching repositories for user: greenlaw110\n",
      "Fetching repositories for user: RomaTeng\n",
      "Fetching repositories for user: tcharding\n",
      "Fetching repositories for user: abstractspoon\n",
      "Fetching repositories for user: lifeparticle\n",
      "Fetching repositories for user: bberak\n",
      "Fetching repositories for user: alphadl\n",
      "Fetching repositories for user: he-y\n",
      "Fetching repositories for user: Meligy\n",
      "Fetching repositories for user: kvos\n",
      "Fetching repositories for user: zcaudate\n",
      "Fetching repositories for user: PinkyJie\n",
      "Fetching repositories for user: zmdominguez\n",
      "Fetching repositories for user: paulfioravanti\n",
      "Fetching repositories for user: jimmo\n",
      "Fetching repositories for user: vnik5287\n",
      "Fetching repositories for user: brendanmurty\n",
      "Fetching repositories for user: naddison36\n",
      "Fetching repositories for user: gavanlamb\n",
      "Fetching repositories for user: Vercidium\n",
      "Fetching repositories for user: tuanvnguyen\n",
      "Fetching repositories for user: albertstill\n",
      "Fetching repositories for user: jordwest\n",
      "Fetching repositories for user: btnguyen2k\n",
      "Fetching repositories for user: modenaxe\n",
      "Fetching repositories for user: nutboltu\n",
      "Fetching repositories for user: timgates42\n",
      "Fetching repositories for user: tmcgilchrist\n",
      "Fetching repositories for user: RussKie\n",
      "Fetching repositories for user: enzyme69\n",
      "Fetching repositories for user: aussiearef\n",
      "Fetching repositories for user: jtblin\n",
      "Fetching repositories for user: cxong\n",
      "Fetching repositories for user: vicr123\n",
      "Fetching repositories for user: mike-thompson-day8\n",
      "Fetching repositories for user: benalexau\n",
      "Fetching repositories for user: adevnadia\n",
      "Fetching repositories for user: theojulienne\n",
      "Fetching repositories for user: AlphaWallet\n",
      "Fetching repositories for user: cjdsellers\n",
      "Fetching repositories for user: amitsaha\n",
      "Fetching repositories for user: PedramMarandi\n",
      "Fetching repositories for user: stennie\n",
      "Fetching repositories for user: kfish\n",
      "Fetching repositories for user: fourkbomb\n",
      "Fetching repositories for user: twalve\n",
      "Fetching repositories for user: neilfws\n",
      "Fetching repositories for user: sarahmaddox\n",
      "Fetching repositories for user: Gomah\n",
      "Fetching repositories for user: andrewharvey\n",
      "Fetching repositories for user: igas\n",
      "Fetching repositories for user: SerCeMan\n",
      "Fetching repositories for user: jamesray1\n",
      "Fetching repositories for user: peterfinlan\n",
      "Fetching repositories for user: russmaxdesign\n",
      "Fetching repositories for user: w0ng\n",
      "Fetching repositories for user: markhibberd\n",
      "Fetching repositories for user: kyb3r\n",
      "Fetching repositories for user: floraCodes\n",
      "Fetching repositories for user: CassiusPacheco\n",
      "Fetching repositories for user: malcolmgroves\n",
      "Fetching repositories for user: auscompgeek\n",
      "Fetching repositories for user: rizsotto\n",
      "Fetching repositories for user: cjheath\n",
      "Fetching repositories for user: nickw444\n",
      "Fetching repositories for user: matt-goldman\n",
      "Fetching repositories for user: theleoborges\n",
      "Fetching repositories for user: atlassian-labs\n",
      "Fetching repositories for user: pbos\n",
      "Fetching repositories for user: bjtu-lucas-nlp\n",
      "Fetching repositories for user: leocaseiro\n",
      "Fetching repositories for user: canva-public\n",
      "Fetching repositories for user: mgreen27\n",
      "Fetching repositories for user: SimplyWallSt\n",
      "Fetching repositories for user: justinmclean\n",
      "Fetching repositories for user: timchurches\n",
      "Fetching repositories for user: jasonsreid\n",
      "Fetching repositories for user: mzhaoshuai\n",
      "Fetching repositories for user: Anyesh\n",
      "Fetching repositories for user: sushil79g\n",
      "Fetching repositories for user: vardius\n",
      "Fetching repositories for user: JasonShin\n",
      "Fetching repositories for user: joshprice\n",
      "Fetching repositories for user: arcwhite\n",
      "Fetching repositories for user: gsklee\n",
      "Fetching repositories for user: rohitash-chandra\n",
      "Fetching repositories for user: stevecassidy\n",
      "Fetching repositories for user: hunto\n",
      "Fetching repositories for user: davidbr4gg\n",
      "Fetching repositories for user: tristan-salles\n",
      "Fetching repositories for user: danoli3\n",
      "Fetching repositories for user: ryan-allen\n",
      "Fetching repositories for user: JiaWu-Repository\n",
      "Fetching repositories for user: taoshen58\n",
      "Fetching repositories for user: JavascriptMick\n",
      "Fetching repositories for user: wacky6\n",
      "Fetching repositories for user: tfpk\n",
      "Fetching repositories for user: ashquarky\n",
      "Fetching repositories for user: gridbugs\n",
      "Fetching repositories for user: mpwaller\n",
      "Fetching repositories for user: KodingDev\n",
      "Fetching repositories for user: maniksurtani\n",
      "Fetching repositories for user: PaulWaltersDev\n",
      "Fetching repositories for user: MaxwellBo\n",
      "Fetching repositories for user: deansheather\n",
      "Fetching repositories for user: dylanegan\n",
      "Fetching repositories for user: rodolfoprr\n",
      "Fetching repositories for user: Noviny\n",
      "Fetching repositories for user: rueckstiess\n",
      "Fetching repositories for user: david-cattermole\n",
      "Fetching repositories for user: deerawan\n",
      "Fetching repositories for user: kevinresol\n",
      "Fetching repositories for user: mgiuca\n",
      "Fetching repositories for user: NobodyXu\n",
      "Fetching repositories for user: featherbear\n",
      "Fetching repositories for user: beauwilliams\n",
      "Fetching repositories for user: maacpiash\n",
      "Fetching repositories for user: alesya-h\n",
      "Fetching repositories for user: thekevinbrown\n",
      "Fetching repositories for user: biancapower\n",
      "Fetching repositories for user: JiashuWu\n",
      "Fetching repositories for user: aullman\n",
      "Fetching repositories for user: donggong1\n",
      "Fetching repositories for user: xiaomengyc\n",
      "Fetching repositories for user: dkarunakaran\n",
      "Fetching repositories for user: davidsansome\n",
      "Fetching repositories for user: guyecode\n",
      "Fetching repositories for user: mitermayer\n",
      "Fetching repositories for user: lsf37\n",
      "Fetching repositories for user: toptensoftware\n",
      "Fetching repositories for user: gsherwood\n",
      "Fetching repositories for user: terrywang\n",
      "Fetching repositories for user: damncabbage\n",
      "Fetching repositories for user: bradleyayers\n",
      "Fetching repositories for user: hemantasapkota\n",
      "Fetching repositories for user: robinst\n",
      "Fetching repositories for user: brinlyau\n",
      "Fetching repositories for user: physwizz\n",
      "Fetching repositories for user: jacobsa\n",
      "Fetching repositories for user: hayyyyyyden\n",
      "Fetching repositories for user: haxormad\n",
      "Fetching repositories for user: Lou-Flan\n",
      "Fetching repositories for user: donnaskiez\n",
      "Fetching repositories for user: dfalster\n",
      "Fetching repositories for user: andersonaguiar\n",
      "Fetching repositories for user: trulyspinach\n",
      "Fetching repositories for user: benl23x5\n",
      "Fetching repositories for user: ozbillwang\n",
      "Fetching repositories for user: nclarx\n",
      "Fetching repositories for user: phamquiluan\n",
      "Fetching repositories for user: lvzongting\n",
      "Fetching repositories for user: davidbanham\n",
      "Fetching repositories for user: chrisosaurus\n",
      "Fetching repositories for user: chriswrightdesign\n",
      "Fetching repositories for user: szdc\n",
      "Fetching repositories for user: shimmyshimmer\n",
      "Fetching repositories for user: dcutting\n",
      "Fetching repositories for user: nalbion\n",
      "Fetching repositories for user: YanhaoZhang\n",
      "Fetching repositories for user: jsscclr\n",
      "Fetching repositories for user: tresacton\n",
      "Fetching repositories for user: mhutchie\n",
      "Fetching repositories for user: Thinkmill\n",
      "Fetching repositories for user: iam-mhaseeb\n",
      "Fetching repositories for user: vrthra\n",
      "Fetching repositories for user: felipetavares\n",
      "Fetching repositories for user: daobilige-su\n",
      "Fetching repositories for user: iamteem\n",
      "Fetching repositories for user: maxious\n",
      "Fetching repositories for user: drbinliang\n",
      "Fetching repositories for user: SiddAjmera\n",
      "Fetching repositories for user: jordaneremieff\n",
      "Fetching repositories for user: wilsonzlin\n",
      "Fetching repositories for user: tbillington\n",
      "Fetching repositories for user: delitescere\n",
      "Fetching repositories for user: np1\n",
      "Fetching repositories for user: zhuangqh\n",
      "Fetching repositories for user: rhoml\n",
      "Fetching repositories for user: noisysocks\n",
      "Fetching repositories for user: pawanrawal\n",
      "Fetching repositories for user: pinkforest\n",
      "Fetching repositories for user: DanyMariaLee\n",
      "Fetching repositories for user: diegogarciahuerta\n",
      "Fetching repositories for user: RobinDong\n",
      "Fetching repositories for user: danmackinlay\n",
      "Fetching repositories for user: mjbamford\n",
      "Fetching repositories for user: XertroV\n",
      "Fetching repositories for user: RickyDivjakovski\n",
      "Fetching repositories for user: encryptededdy\n",
      "Fetching repositories for user: freshtonic\n",
      "Fetching repositories for user: jkkummerfeld\n",
      "Fetching repositories for user: kiddkai\n",
      "Fetching repositories for user: lihini223\n",
      "Fetching repositories for user: kurisubrooks\n",
      "Fetching repositories for user: tomitrescak\n",
      "Fetching repositories for user: ftsf\n",
      "Fetching repositories for user: dhowden\n",
      "Fetching repositories for user: peterboyer\n",
      "Fetching repositories for user: chadluo\n",
      "Repository data saved to repositories.csv successfully.\n"
     ]
    }
   ],
   "source": [
    "import requests\n",
    "import pandas as pd\n",
    "import time\n",
    "from requests.adapters import HTTPAdapter\n",
    "from requests.exceptions import RequestException\n",
    "from urllib3.util.retry import Retry\n",
    "\n",
    "# GitHub API endpoint and headers\n",
    "GITHUB_API_URL = \"https://api.github.com\"\n",
    "GITHUB_TOKEN = \"Replace with your GitHub token\"  # Replace with your GitHub token\n",
    "HEADERS = {\n",
    "    \"Authorization\": f\"token {GITHUB_TOKEN}\",\n",
    "    \"Accept\": \"application/vnd.github.v3+json\"\n",
    "}\n",
    "\n",
    "# Session with retry and backoff\n",
    "session = requests.Session()\n",
    "retry_strategy = Retry(\n",
    "    total=5,\n",
    "    backoff_factor=1,\n",
    "    status_forcelist=[429, 500, 502, 503, 504],\n",
    ")\n",
    "adapter = HTTPAdapter(max_retries=retry_strategy)\n",
    "session.mount(\"https://\", adapter)\n",
    "session.headers.update(HEADERS)\n",
    "\n",
    "def fetch_user_repositories(login):\n",
    "    \"\"\"Fetch public repositories for a given user.\"\"\"\n",
    "    repos = []\n",
    "    page = 1\n",
    "    while True:\n",
    "        try:\n",
    "            url = f\"{GITHUB_API_URL}/users/{login}/repos?page={page}&per_page=100\"\n",
    "            response = session.get(url, timeout=10)\n",
    "\n",
    "            if response.status_code != 200:\n",
    "                print(f\"Error fetching repos for {login}: {response.status_code} - {response.text}\")\n",
    "                break\n",
    "\n",
    "            repo_data = response.json()\n",
    "            if not repo_data:\n",
    "                break\n",
    "\n",
    "            for repo in repo_data:\n",
    "                repos.append({\n",
    "                    \"login\": login,\n",
    "                    \"full_name\": repo.get(\"full_name\", \"\"),\n",
    "                    \"created_at\": repo.get(\"created_at\", \"\"),\n",
    "                    \"stargazers_count\": repo.get(\"stargazers_count\", 0),\n",
    "                    \"watchers_count\": repo.get(\"watchers_count\", 0),\n",
    "                    \"language\": repo.get(\"language\", \"\"),\n",
    "                    \"has_projects\": repo.get(\"has_projects\", False),\n",
    "                    \"has_wiki\": repo.get(\"has_wiki\", False),\n",
    "                    \"license_name\": repo.get(\"license\").get(\"key\", \"\") if repo.get(\"license\") else \"\"\n",
    "                })\n",
    "            page += 1\n",
    "            time.sleep(1)  # To avoid hitting the rate limit\n",
    "        except RequestException as e:\n",
    "            print(f\"Request failed for {login}: {e}\")\n",
    "            break\n",
    "\n",
    "    return repos\n",
    "\n",
    "# Read users from 'users.csv'\n",
    "users_df = pd.read_csv(\"users.csv\")\n",
    "\n",
    "# Initialize a list to store repository data\n",
    "all_repos = []\n",
    "\n",
    "# Loop through each user and fetch their repositories\n",
    "for index, row in users_df.iterrows():\n",
    "    login = row[\"login\"]\n",
    "    print(f\"Fetching repositories for user: {login}\")\n",
    "    user_repos = fetch_user_repositories(login)\n",
    "    all_repos.extend(user_repos)  # Append fetched repositories\n",
    "\n",
    "# Save repositories to 'repositories.csv'\n",
    "df_repositories = pd.DataFrame(all_repos)\n",
    "df_repositories.to_csv(\"repositories.csv\", index=False)\n",
    "print(\"Repository data saved to repositories.csv successfully.\")\n"
   ]
  },
  {
   "cell_type": "markdown",
   "metadata": {
    "id": "9LfJStvydBkz"
   },
   "source": [
    "Code to Download repositories.csv from Google Colab"
   ]
  },
  {
   "cell_type": "code",
   "execution_count": null,
   "metadata": {
    "colab": {
     "base_uri": "https://localhost:8080/",
     "height": 17
    },
    "id": "Nj_HyBFac-Bp",
    "outputId": "9e83f71c-b2d3-4fc6-c3f9-0ec5d3fe5d2f"
   },
   "outputs": [
    {
     "data": {
      "application/javascript": "\n    async function download(id, filename, size) {\n      if (!google.colab.kernel.accessAllowed) {\n        return;\n      }\n      const div = document.createElement('div');\n      const label = document.createElement('label');\n      label.textContent = `Downloading \"${filename}\": `;\n      div.appendChild(label);\n      const progress = document.createElement('progress');\n      progress.max = size;\n      div.appendChild(progress);\n      document.body.appendChild(div);\n\n      const buffers = [];\n      let downloaded = 0;\n\n      const channel = await google.colab.kernel.comms.open(id);\n      // Send a message to notify the kernel that we're ready.\n      channel.send({})\n\n      for await (const message of channel.messages) {\n        // Send a message to notify the kernel that we're ready.\n        channel.send({})\n        if (message.buffers) {\n          for (const buffer of message.buffers) {\n            buffers.push(buffer);\n            downloaded += buffer.byteLength;\n            progress.value = downloaded;\n          }\n        }\n      }\n      const blob = new Blob(buffers, {type: 'application/binary'});\n      const a = document.createElement('a');\n      a.href = window.URL.createObjectURL(blob);\n      a.download = filename;\n      div.appendChild(a);\n      a.click();\n      div.remove();\n    }\n  ",
      "text/plain": [
       "<IPython.core.display.Javascript object>"
      ]
     },
     "metadata": {},
     "output_type": "display_data"
    },
    {
     "data": {
      "application/javascript": "download(\"download_5a58e6f0-6da0-4cb7-8e4a-688b1fbada2a\", \"repositories.csv\", 3779317)",
      "text/plain": [
       "<IPython.core.display.Javascript object>"
      ]
     },
     "metadata": {},
     "output_type": "display_data"
    }
   ],
   "source": [
    "from google.colab import files\n",
    "\n",
    "# Assuming 'repositories.csv' is the file you want to download\n",
    "file_name = 'repositories.csv'  # Change this to your file name if needed\n",
    "\n",
    "# Download the file\n",
    "files.download(file_name)"
   ]
  },
  {
   "cell_type": "markdown",
   "metadata": {
    "id": "rDcwEDIFdvoh"
   },
   "source": [
    "1. Who are the top 5 users in Sydney with the highest number of followers? List their login in order, comma-separated."
   ]
  },
  {
   "cell_type": "code",
   "execution_count": null,
   "metadata": {
    "colab": {
     "base_uri": "https://localhost:8080/"
    },
    "id": "FF3vLGx9dkTy",
    "outputId": "e300c218-eb22-46de-8ee6-ef32bc216b62"
   },
   "outputs": [
    {
     "name": "stdout",
     "output_type": "stream",
     "text": [
      "nicknochnack, brendangregg, cornflourblue, 0vm, davecheney\n"
     ]
    }
   ],
   "source": [
    "import pandas as pd\n",
    "\n",
    "# Load the data\n",
    "users_df = pd.read_csv('users.csv')\n",
    "\n",
    "# Filter users in Sydney and sort by followers\n",
    "top_users = users_df[users_df['location'].str.contains('Sydney', case=False)]\n",
    "top_users = top_users.sort_values(by='followers', ascending=False)\n",
    "\n",
    "# Get the top 5 users\n",
    "top_5_users = top_users.head(5)['login'].tolist()\n",
    "\n",
    "# Print the logins in order, comma-separated\n",
    "print(\", \".join(top_5_users))\n"
   ]
  },
  {
   "cell_type": "markdown",
   "metadata": {
    "id": "uP-ACJkm8CvV"
   },
   "source": [
    "2. Who are the 5 earliest registered GitHub users in Sydney? List their login in ascending order of created_at, comma-separated.\n"
   ]
  },
  {
   "cell_type": "code",
   "execution_count": 21,
   "metadata": {
    "colab": {
     "base_uri": "https://localhost:8080/"
    },
    "id": "G8wJ_f4u8DeX",
    "outputId": "169c836b-a9d6-488e-b7cf-bf4bf256a3ad"
   },
   "outputs": [
    {
     "name": "stdout",
     "output_type": "stream",
     "text": [
      "dylanegan, cjheath, freshtonic, dhowden, mikel\n"
     ]
    }
   ],
   "source": [
    "import pandas as pd\n",
    "\n",
    "# Load the data\n",
    "users_df = pd.read_csv('users.csv')\n",
    "\n",
    "# Filter users in Sydney and sort by created_at\n",
    "sydney_users = users_df[users_df['location'].str.contains('Sydney', case=False)]\n",
    "earliest_users = sydney_users.sort_values(by='created_at')\n",
    "\n",
    "# Get the 5 earliest registered users\n",
    "earliest_5_users = earliest_users.head(5)['login'].tolist()\n",
    "\n",
    "# Print the logins in ascending order, comma-separated\n",
    "print(\", \".join(earliest_5_users))\n"
   ]
  },
  {
   "cell_type": "markdown",
   "metadata": {
    "id": "t7dbk0E38RfQ"
   },
   "source": [
    "3. What are the 3 most popular license among these users? Ignore missing licenses. List the license_name in order, comma-separated."
   ]
  },
  {
   "cell_type": "code",
   "execution_count": 22,
   "metadata": {
    "colab": {
     "base_uri": "https://localhost:8080/"
    },
    "id": "PqToqhFZ8S5F",
    "outputId": "93ac8327-4a56-4dc8-cb11-7696e19b3843"
   },
   "outputs": [
    {
     "name": "stdout",
     "output_type": "stream",
     "text": [
      "mit, other, apache-2.0\n"
     ]
    }
   ],
   "source": [
    "import pandas as pd\n",
    "\n",
    "# Load the repository data\n",
    "repos_df = pd.read_csv('repositories.csv')\n",
    "\n",
    "# Filter out rows with missing license names\n",
    "valid_licenses = repos_df[repos_df['license_name'] != \"\"]\n",
    "\n",
    "# Count the occurrences of each license and get the top 3\n",
    "top_licenses = valid_licenses['license_name'].value_counts().head(3)\n",
    "\n",
    "# Print the license names in order, comma-separated\n",
    "print(\", \".join(top_licenses.index))\n"
   ]
  },
  {
   "cell_type": "markdown",
   "metadata": {
    "id": "TfeL8fkE8S_1"
   },
   "source": [
    "4. Which company do the majority of these developers work at?\n",
    "Company (cleaned up as explained above)"
   ]
  },
  {
   "cell_type": "code",
   "execution_count": 23,
   "metadata": {
    "colab": {
     "base_uri": "https://localhost:8080/"
    },
    "id": "nvXG0OfL8YW9",
    "outputId": "e1145c38-ddad-4c57-81ec-e32dd54a3e7c"
   },
   "outputs": [
    {
     "name": "stdout",
     "output_type": "stream",
     "text": [
      "The majority of developers work at: ATLASSIAN (Count: 19)\n"
     ]
    }
   ],
   "source": [
    "import pandas as pd\n",
    "\n",
    "# Load the cleaned user data\n",
    "users_df = pd.read_csv('users.csv')\n",
    "\n",
    "# Count occurrences of each company\n",
    "company_counts = users_df['company'].value_counts()\n",
    "\n",
    "# Get the most common company\n",
    "most_common_company = company_counts.idxmax()\n",
    "most_common_count = company_counts.max()\n",
    "\n",
    "print(f\"The majority of developers work at: {most_common_company} (Count: {most_common_count})\")\n"
   ]
  },
  {
   "cell_type": "markdown",
   "metadata": {
    "id": "OYP3hN558Ybx"
   },
   "source": [
    "***5***. Which programming language is most popular among these users?\n",
    "Language"
   ]
  },
  {
   "cell_type": "code",
   "execution_count": 24,
   "metadata": {
    "colab": {
     "base_uri": "https://localhost:8080/"
    },
    "id": "3kyZeihL8Zel",
    "outputId": "3848cc04-4e73-4ee7-d9d3-5d0d8debee87"
   },
   "outputs": [
    {
     "name": "stdout",
     "output_type": "stream",
     "text": [
      "The most popular programming language among these users is: JavaScript (Count: 6135)\n"
     ]
    }
   ],
   "source": [
    "import pandas as pd\n",
    "\n",
    "# Load the repository data\n",
    "repos_df = pd.read_csv('repositories.csv')\n",
    "\n",
    "# Count occurrences of each programming language\n",
    "language_counts = repos_df['language'].value_counts()\n",
    "\n",
    "# Get the most popular language\n",
    "most_popular_language = language_counts.idxmax()\n",
    "most_popular_count = language_counts.max()\n",
    "\n",
    "print(f\"The most popular programming language among these users is: {most_popular_language} (Count: {most_popular_count})\")\n"
   ]
  },
  {
   "cell_type": "markdown",
   "metadata": {
    "id": "hKJLGoQK8Zjq"
   },
   "source": [
    "6. Which programming language is the second most popular among users who joined after 2020?\n",
    "Language"
   ]
  },
  {
   "cell_type": "code",
   "execution_count": 25,
   "metadata": {
    "colab": {
     "base_uri": "https://localhost:8080/"
    },
    "id": "cmSPMBSL8anJ",
    "outputId": "618bd3af-f335-44bc-a249-74820fe1abaa"
   },
   "outputs": [
    {
     "name": "stdout",
     "output_type": "stream",
     "text": [
      "The second most popular programming language among users who joined after 2020 is: TypeScript (Count: 22)\n"
     ]
    }
   ],
   "source": [
    "import pandas as pd\n",
    "\n",
    "# Load the user data\n",
    "users_df = pd.read_csv('users.csv')\n",
    "\n",
    "# Load the repository data\n",
    "repos_df = pd.read_csv('repositories.csv')\n",
    "\n",
    "# Convert the 'created_at' column to datetime\n",
    "users_df['created_at'] = pd.to_datetime(users_df['created_at'])\n",
    "\n",
    "# Filter users who joined after 2020\n",
    "users_after_2020 = users_df[users_df['created_at'] > '2020-01-01']\n",
    "\n",
    "# Get logins of filtered users\n",
    "logins_after_2020 = users_after_2020['login'].tolist()\n",
    "\n",
    "# Filter repositories for those users\n",
    "filtered_repos = repos_df[repos_df['login'].isin(logins_after_2020)]\n",
    "\n",
    "# Count occurrences of each programming language\n",
    "language_counts = filtered_repos['language'].value_counts()\n",
    "\n",
    "# Get the second most popular language\n",
    "second_most_popular_language = language_counts.index[1] if len(language_counts) > 1 else None\n",
    "second_most_popular_count = language_counts.iloc[1] if len(language_counts) > 1 else 0\n",
    "\n",
    "print(f\"The second most popular programming language among users who joined after 2020 is: {second_most_popular_language} (Count: {second_most_popular_count})\")\n"
   ]
  },
  {
   "cell_type": "markdown",
   "metadata": {
    "id": "XOi_RYKi8a4p"
   },
   "source": [
    "7. Which language has the highest average number of stars per repository?\n",
    "Language"
   ]
  },
  {
   "cell_type": "code",
   "execution_count": 26,
   "metadata": {
    "colab": {
     "base_uri": "https://localhost:8080/"
    },
    "id": "tTTCzTrW8b__",
    "outputId": "94979bcb-7e48-485e-c8fd-6808305ef724"
   },
   "outputs": [
    {
     "name": "stdout",
     "output_type": "stream",
     "text": [
      "The language with the highest average number of stars per repository is: Mermaid (Average Stars: 505.00)\n"
     ]
    }
   ],
   "source": [
    "import pandas as pd\n",
    "\n",
    "# Load the repository data\n",
    "repos_df = pd.read_csv('repositories.csv')\n",
    "\n",
    "# Group by language and calculate the average number of stars\n",
    "average_stars = repos_df.groupby('language')['stargazers_count'].mean()\n",
    "\n",
    "# Identify the language with the highest average number of stars\n",
    "highest_avg_stars_language = average_stars.idxmax()\n",
    "highest_avg_stars_value = average_stars.max()\n",
    "\n",
    "print(f\"The language with the highest average number of stars per repository is: {highest_avg_stars_language} (Average Stars: {highest_avg_stars_value:.2f})\")\n"
   ]
  },
  {
   "cell_type": "markdown",
   "metadata": {
    "id": "pijuC_3l8cEl"
   },
   "source": [
    "8. Let's define leader_strength as followers / (1 + following). Who are the top 5 in terms of leader_strength? List their login in order, comma-separated.\n",
    "User login"
   ]
  },
  {
   "cell_type": "code",
   "execution_count": 27,
   "metadata": {
    "colab": {
     "base_uri": "https://localhost:8080/"
    },
    "id": "tOmjg1Ga8eDl",
    "outputId": "bae0f25f-f587-4cd3-d862-e779f3191d3c"
   },
   "outputs": [
    {
     "name": "stdout",
     "output_type": "stream",
     "text": [
      "The top 5 users in terms of leader strength are: brendangregg, cornflourblue, Canva, nicknochnack, 0vm\n"
     ]
    }
   ],
   "source": [
    "import pandas as pd\n",
    "\n",
    "# Load the user data\n",
    "users_df = pd.read_csv('users.csv')\n",
    "\n",
    "# Calculate leader strength\n",
    "users_df['leader_strength'] = users_df['followers'] / (1 + users_df['following'])\n",
    "\n",
    "# Get the top 5 users by leader strength\n",
    "top_leaders = users_df.nlargest(5, 'leader_strength')\n",
    "\n",
    "# List the logins in order\n",
    "top_leader_logins = top_leaders['login'].tolist()\n",
    "top_leader_logins_str = ', '.join(top_leader_logins)\n",
    "\n",
    "print(f\"The top 5 users in terms of leader strength are: {top_leader_logins_str}\")\n"
   ]
  },
  {
   "cell_type": "markdown",
   "metadata": {
    "id": "Y24SeumN8eLR"
   },
   "source": [
    "9. What is the correlation between the number of followers and the number of public repositories among users in Sydney?\n",
    "Correlation between followers and repos (to 3 decimal places, e.g. 0.123 or -0.123)"
   ]
  },
  {
   "cell_type": "code",
   "execution_count": 28,
   "metadata": {
    "colab": {
     "base_uri": "https://localhost:8080/"
    },
    "id": "vD0QcRqT8fb9",
    "outputId": "8cab9f2e-02dd-4020-e673-b5479d0f026b"
   },
   "outputs": [
    {
     "name": "stdout",
     "output_type": "stream",
     "text": [
      "The correlation between the number of followers and the number of public repositories is: 0.035\n"
     ]
    }
   ],
   "source": [
    "import pandas as pd\n",
    "\n",
    "# Load the user data\n",
    "users_df = pd.read_csv('users.csv')\n",
    "\n",
    "# Calculate the correlation between followers and public repositories\n",
    "correlation = users_df['followers'].corr(users_df['public_repos'])\n",
    "\n",
    "# Print the correlation rounded to three decimal places\n",
    "print(f\"The correlation between the number of followers and the number of public repositories is: {correlation:.3f}\")\n"
   ]
  },
  {
   "cell_type": "markdown",
   "metadata": {
    "id": "cmVQM73A8fhh"
   },
   "source": [
    "10. Does creating more repos help users get more followers? Using regression, estimate how many additional followers a user gets per additional public repository.\n",
    "Regression slope of followers on repos (to 3 decimal places, e.g. 0.123 or -0.123)"
   ]
  },
  {
   "cell_type": "code",
   "execution_count": 29,
   "metadata": {
    "colab": {
     "base_uri": "https://localhost:8080/"
    },
    "id": "zJ27tV7o8gtB",
    "outputId": "cdc21080-6e6f-4b71-9c2d-6594daece208"
   },
   "outputs": [
    {
     "name": "stdout",
     "output_type": "stream",
     "text": [
      "The regression slope of followers on public repositories is: 0.068\n"
     ]
    }
   ],
   "source": [
    "import pandas as pd\n",
    "import statsmodels.api as sm\n",
    "\n",
    "# Load the user data\n",
    "users_df = pd.read_csv('users.csv')\n",
    "\n",
    "# Define the independent variable (public_repos) and dependent variable (followers)\n",
    "X = users_df['public_repos']\n",
    "y = users_df['followers']\n",
    "\n",
    "# Add a constant to the independent variable\n",
    "X = sm.add_constant(X)\n",
    "\n",
    "# Fit the regression model\n",
    "model = sm.OLS(y, X).fit()\n",
    "\n",
    "# Get the slope for the public_repos variable\n",
    "slope = model.params['public_repos']\n",
    "\n",
    "# Print the slope rounded to three decimal places\n",
    "print(f\"The regression slope of followers on public repositories is: {slope:.3f}\")\n"
   ]
  },
  {
   "cell_type": "markdown",
   "metadata": {
    "id": "1dgSoOBe8gyd"
   },
   "source": [
    "11. Do people typically enable projects and wikis together? What is the correlation between a repo having projects enabled and having wiki enabled?\n",
    "Correlation between projects and wiki enabled (to 3 decimal places, e.g. 0.123 or -0.123)"
   ]
  },
  {
   "cell_type": "code",
   "execution_count": 44,
   "metadata": {
    "colab": {
     "base_uri": "https://localhost:8080/"
    },
    "id": "wOxkjd9j8i6p",
    "outputId": "5a7bba27-eafb-46b7-fbf3-11611c27647d"
   },
   "outputs": [
    {
     "name": "stdout",
     "output_type": "stream",
     "text": [
      "Correlation between projects and wiki enabled: 0.220\n"
     ]
    }
   ],
   "source": [
    "import pandas as pd\n",
    "\n",
    "# Load the repositories data\n",
    "repos_df = pd.read_csv('repositories.csv')\n",
    "\n",
    "# Create binary columns for projects and wiki enabled (1 for True, 0 for False)\n",
    "repos_df['projects_enabled'] = repos_df['has_projects'].astype(int)\n",
    "repos_df['wiki_enabled'] = repos_df['has_wiki'].astype(int)\n",
    "\n",
    "# Calculate the correlation\n",
    "correlation = repos_df['projects_enabled'].corr(repos_df['wiki_enabled'])\n",
    "\n",
    "# Print the correlation rounded to three decimal places\n",
    "print(f\"Correlation between projects and wiki enabled: {correlation:.3f}\")\n"
   ]
  },
  {
   "cell_type": "markdown",
   "metadata": {
    "id": "0hLWNdE-8jat"
   },
   "source": [
    "12. Do hireable users follow more people than those who are not hireable?\n",
    "Average of following per user for hireable=true minus the average following for the rest (to 3 decimal places, e.g. 12.345 or -12.345)"
   ]
  },
  {
   "cell_type": "code",
   "execution_count": 46,
   "metadata": {
    "colab": {
     "base_uri": "https://localhost:8080/"
    },
    "id": "lXF16Gvi8jwN",
    "outputId": "c11fa2df-6886-4032-8523-5b64bdb04549"
   },
   "outputs": [
    {
     "name": "stdout",
     "output_type": "stream",
     "text": [
      "Average following difference: nan\n"
     ]
    }
   ],
   "source": [
    "import pandas as pd\n",
    "\n",
    "# Load the users data\n",
    "users_df = pd.read_csv('users.csv')\n",
    "\n",
    "# Calculate the average following for hireable users\n",
    "hireable_avg = users_df[users_df['hireable'] == True]['following'].mean()\n",
    "\n",
    "# Calculate the average following for non-hireable users\n",
    "non_hireable_avg = users_df[users_df['hireable'] == False]['following'].mean()\n",
    "\n",
    "# Calculate the difference\n",
    "difference = hireable_avg - non_hireable_avg\n",
    "\n",
    "# Print the result rounded to three decimal places\n",
    "print(f\"Average following difference: {difference:.3f}\")\n"
   ]
  },
  {
   "cell_type": "markdown",
   "metadata": {
    "id": "1VVj1QoK8ktx"
   },
   "source": [
    "13. Some developers write long bios. Does that help them get more followers? What's the impact of the length of their bio (in Unicode words, split by whitespace) with followers? (Ignore people without bios)\n",
    "Regression slope of followers on bio word count (to 3 decimal places, e.g. 12.345 or -12.345)"
   ]
  },
  {
   "cell_type": "code",
   "execution_count": 43,
   "metadata": {
    "colab": {
     "base_uri": "https://localhost:8080/"
    },
    "id": "tDzo8etc8l19",
    "outputId": "6a17bddc-3b35-4a89-bd00-5253b9aba141"
   },
   "outputs": [
    {
     "name": "stdout",
     "output_type": "stream",
     "text": [
      "The regression slope of followers on bio word count is: -10.884\n"
     ]
    },
    {
     "name": "stderr",
     "output_type": "stream",
     "text": [
      "<ipython-input-43-ff849ea62b56>:11: SettingWithCopyWarning: \n",
      "A value is trying to be set on a copy of a slice from a DataFrame.\n",
      "Try using .loc[row_indexer,col_indexer] = value instead\n",
      "\n",
      "See the caveats in the documentation: https://pandas.pydata.org/pandas-docs/stable/user_guide/indexing.html#returning-a-view-versus-a-copy\n",
      "  users_with_bios['bio_word_count'] = users_with_bios['bio'].str.split().str.len()\n"
     ]
    }
   ],
   "source": [
    "import pandas as pd\n",
    "import statsmodels.api as sm\n",
    "\n",
    "# Load the user data\n",
    "users_df = pd.read_csv('users.csv')\n",
    "\n",
    "# Filter out users without bios\n",
    "users_with_bios = users_df[users_df['bio'].notna()]\n",
    "\n",
    "# Calculate the length of each bio in words\n",
    "users_with_bios['bio_word_count'] = users_with_bios['bio'].str.split().str.len()\n",
    "\n",
    "# Define the dependent variable (followers) and independent variable (bio word count)\n",
    "X = users_with_bios['bio_word_count']\n",
    "y = users_with_bios['followers']\n",
    "\n",
    "# Add a constant to the independent variable for the intercept\n",
    "X = sm.add_constant(X)\n",
    "\n",
    "# Fit the regression model\n",
    "model = sm.OLS(y, X).fit()\n",
    "\n",
    "# Get the slope (coefficient for bio_word_count)\n",
    "slope = model.params['bio_word_count']\n",
    "\n",
    "# Print the regression slope rounded to three decimal places\n",
    "print(f\"The regression slope of followers on bio word count is: {slope:.3f}\")\n"
   ]
  },
  {
   "cell_type": "markdown",
   "metadata": {
    "id": "LDbBfEyr8l7d"
   },
   "source": [
    "14. Who created the most repositories on weekends (UTC)? List the top 5 users' login in order, comma-separated\n",
    "Users login"
   ]
  },
  {
   "cell_type": "code",
   "execution_count": 35,
   "metadata": {
    "colab": {
     "base_uri": "https://localhost:8080/"
    },
    "id": "RYVtf2G-8neq",
    "outputId": "cf01b4bd-8599-4314-86a5-148399b737cf"
   },
   "outputs": [
    {
     "name": "stdout",
     "output_type": "stream",
     "text": [
      "Top 5 users who created the most repositories on weekends: johndpope, mvandermeulen, timgates42, mikeyhodl, pinkforest\n"
     ]
    }
   ],
   "source": [
    "import pandas as pd\n",
    "\n",
    "# Load the repositories data\n",
    "repos_df = pd.read_csv('repositories.csv')\n",
    "\n",
    "# Convert 'created_at' to datetime\n",
    "repos_df['created_at'] = pd.to_datetime(repos_df['created_at'])\n",
    "\n",
    "# Filter for weekend days (Saturday and Sunday)\n",
    "repos_df['day_of_week'] = repos_df['created_at'].dt.dayofweek\n",
    "weekend_repos = repos_df[repos_df['day_of_week'].isin([5, 6])]  # 5 = Saturday, 6 = Sunday\n",
    "\n",
    "# Count repositories created by each user\n",
    "top_weekend_users = weekend_repos['login'].value_counts().head(5)\n",
    "\n",
    "# Get the logins of the top users in order\n",
    "top_users_logins = ', '.join(top_weekend_users.index)\n",
    "\n",
    "print(f\"Top 5 users who created the most repositories on weekends: {top_users_logins}\")\n"
   ]
  },
  {
   "cell_type": "markdown",
   "metadata": {
    "id": "PHw5ewZ_8m9l"
   },
   "source": [
    "15. Do people who are hireable share their email addresses more often?\n",
    "[fraction of users with email when hireable=true] minus [fraction of users with email for the rest] (to 3 decimal places, e.g. 0.123 or -0.123)"
   ]
  },
  {
   "cell_type": "code",
   "execution_count": 41,
   "metadata": {
    "colab": {
     "base_uri": "https://localhost:8080/"
    },
    "id": "wRo3D4V68pUD",
    "outputId": "46c0ef6a-14cb-4c3b-bde6-ad4f9fa724f3"
   },
   "outputs": [
    {
     "name": "stdout",
     "output_type": "stream",
     "text": [
      "Fraction of users with email difference: 0.044\n"
     ]
    }
   ],
   "source": [
    "import pandas as pd\n",
    "\n",
    "# Load the users data\n",
    "users_df = pd.read_csv('users.csv')\n",
    "\n",
    "# Calculate the fraction of hireable users with an email\n",
    "hireable_with_email = users_df[users_df['hireable'] == True]['email'].notna().mean()\n",
    "\n",
    "# Calculate the fraction of non-hireable users with an email\n",
    "non_hireable_with_email = users_df[users_df['hireable'] != True]['email'].notna().mean()\n",
    "\n",
    "# Calculate the difference\n",
    "email_difference = hireable_with_email - non_hireable_with_email\n",
    "\n",
    "# Print the result rounded to three decimal places\n",
    "print(f\"Fraction of users with email difference: {email_difference:.3f}\")\n"
   ]
  },
  {
   "cell_type": "markdown",
   "metadata": {
    "id": "koOemnj98pZD"
   },
   "source": [
    "16. Let's assume that the last word in a user's name is their surname (ignore missing names, trim and split by whitespace.) What's the most common surname? (If there's a tie, list them all, comma-separated, alphabetically)\n",
    "Most common surname(s)"
   ]
  },
  {
   "cell_type": "code",
   "execution_count": 37,
   "metadata": {
    "colab": {
     "base_uri": "https://localhost:8080/"
    },
    "id": "uE6Nhv548rvK",
    "outputId": "c80ceebc-bb99-48db-8d8e-99eb913c80eb"
   },
   "outputs": [
    {
     "name": "stdout",
     "output_type": "stream",
     "text": [
      "Most common surname(s): Wu, Zhang\n"
     ]
    }
   ],
   "source": [
    "import pandas as pd\n",
    "from collections import Counter\n",
    "\n",
    "# Load the users data\n",
    "users_df = pd.read_csv('users.csv')\n",
    "\n",
    "# Extract surnames from the 'name' column\n",
    "surnames = []\n",
    "for name in users_df['name'].dropna():  # Ignore missing names\n",
    "    surname = name.strip().split()[-1]  # Take the last word as surname\n",
    "    surnames.append(surname)\n",
    "\n",
    "# Count occurrences of each surname\n",
    "surname_counts = Counter(surnames)\n",
    "\n",
    "# Find the maximum count\n",
    "max_count = max(surname_counts.values())\n",
    "\n",
    "# Get the most common surnames (in case of a tie)\n",
    "most_common_surnames = [surname for surname, count in surname_counts.items() if count == max_count]\n",
    "\n",
    "# Sort them alphabetically\n",
    "most_common_surnames.sort()\n",
    "\n",
    "# Convert to a comma-separated string\n",
    "result = ', '.join(most_common_surnames)\n",
    "\n",
    "print(f\"Most common surname(s): {result}\")\n"
   ]
  }
 ],
 "metadata": {
  "colab": {
   "provenance": []
  },
  "kernelspec": {
   "display_name": "Python 3",
   "name": "python3"
  },
  "language_info": {
   "name": "python"
  }
 },
 "nbformat": 4,
 "nbformat_minor": 0
}
